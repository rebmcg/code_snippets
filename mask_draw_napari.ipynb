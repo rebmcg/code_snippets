{
 "cells": [
  {
   "cell_type": "markdown",
   "metadata": {},
   "source": [
    "A notebook to help make drawing masks for many microscopy images a little bit easier and faster"
   ]
  },
  {
   "cell_type": "code",
   "execution_count": null,
   "metadata": {},
   "outputs": [],
   "source": [
    "import napari\n",
    "from nd2reader import ND2Reader\n",
    "import numpy\n",
    "from skimage import io"
   ]
  },
  {
   "cell_type": "code",
   "execution_count": null,
   "metadata": {},
   "outputs": [],
   "source": [
    "#open Napari at start of analysis\n",
    "viewer = napari.Viewer()"
   ]
  },
  {
   "cell_type": "code",
   "execution_count": null,
   "metadata": {},
   "outputs": [],
   "source": [
    "#Specify where to load your initial data from:\n",
    "\n",
    "num = 50\n",
    "\n",
    "#image number last 2 digits\n",
    "\n",
    "file_name = \"experiment_file_name\" \n",
    "#name of individual file to analyze, minus the last two digits of its number\n",
    "\n",
    "condition_name = \"condition_folder_name\"\n",
    "#name of experimental condition folder\n",
    "\n",
    "experiment_pathname = \"/path/to/experiment/folder\"\n",
    "#filepath of the overall experiment folder that contains your data\n",
    "\n",
    "pathname = experiment_pathname + \"/\" + condition_name + \"/\" + file_name + str(num) + \".nd2\"\n",
    "\n",
    "#print(pathname)\n",
    "#Your file's final pathname, print to check it\n",
    "\n",
    "####################\n",
    "\n",
    "#clear current image viewer and load the .nd2 file of your image\n",
    "\n",
    "viewer.layers.clear()\n",
    "\n",
    "with ND2Reader(pathname) as img:\n",
    "    metadata = img.metadata\n",
    "    pixel_sz = metadata['pixel_microns']\n",
    "    img.bundle_axes = \"yx\"\n",
    "    imgdata = img[0]\n",
    "\n",
    "mask_shape = imgdata.shape if imgdata.ndim == 2 else imgdata.shape[-2:]\n",
    "_mask = numpy.zeros(mask_shape, dtype=int)\n",
    "viewer.add_image(data=imgdata)\n",
    "mask_layer = viewer.add_labels(_mask, name=\"cytoplasm\")\n",
    "mask_layer.mode = \"PAINT\"\n",
    "\n",
    "#add image to viewer\n",
    "\n",
    "viewer.layers['imgdata'].contrast_limits=(50, 200)\n",
    "#set contrast limits to make image easier to see for mask drawing\n"
   ]
  },
  {
   "cell_type": "markdown",
   "metadata": {},
   "source": [
    "<b>Draw a mask by hand before next step</b><br>\n",
    "Press 3 to toggle to fill bucket"
   ]
  },
  {
   "cell_type": "code",
   "execution_count": null,
   "metadata": {},
   "outputs": [],
   "source": [
    "#Convert your drawn mask to an image layer so that it can be saved:\n",
    "\n",
    "#mask = viewer.layers['cytoplasm'].data \n",
    "#viewer.add_image(mask, name=\"mask\")\n",
    "mask_layer = viewer.layers['cytoplasm']\n",
    "mask_data = mask_layer.data\n",
    "\n",
    "####################\n",
    "\n",
    " #specify where to save your data to:\n",
    " \n",
    "mask_folder = condition_name + \"_masks\"\n",
    " #name of folder to save masks to. Make sure to make and name this folder at the start of analyzing each condition\n",
    "\n",
    "save_path = experiment_pathname + \"/\" + condition_name + \"/\" + mask_folder + \"/\" + file_name + str(num) + \"_mask.tif\"\n",
    " #path to where data will be saved, and re-naming file to include '_mask' at end of filename, and '.tif' as the extension\n",
    " \n",
    "#print(save_path)\n",
    " #toggle to check your save path\n",
    "\n",
    "####################\n",
    "\n",
    " #save the data to file using skimage\n",
    " \n",
    "io.imsave(save_path, mask_data)"
   ]
  }
 ],
 "metadata": {
  "kernelspec": {
   "display_name": "Python 3",
   "language": "python",
   "name": "python3"
  },
  "language_info": {
   "codemirror_mode": {
    "name": "ipython",
    "version": 3
   },
   "file_extension": ".py",
   "mimetype": "text/x-python",
   "name": "python",
   "nbconvert_exporter": "python",
   "pygments_lexer": "ipython3",
   "version": "3.12.2"
  }
 },
 "nbformat": 4,
 "nbformat_minor": 2
}
