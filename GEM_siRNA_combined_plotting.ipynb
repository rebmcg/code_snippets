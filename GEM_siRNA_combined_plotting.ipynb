{
 "cells": [
  {
   "cell_type": "markdown",
   "metadata": {},
   "source": [
    "Notebook to plot multiple trials of GEM experiments together"
   ]
  },
  {
   "cell_type": "code",
   "execution_count": null,
   "metadata": {},
   "outputs": [],
   "source": [
    "#Importing libraries that we will need to use\n",
    "#Set Jupyter Kernel to imaging_env\n",
    "\n",
    "import matplotlib.pyplot as plt\n",
    "import seaborn as sns\n",
    "import pandas as pd\n",
    "import numpy as np\n",
    "import scipy\n",
    "from scipy import stats\n",
    "\n"
   ]
  },
  {
   "cell_type": "code",
   "execution_count": null,
   "metadata": {},
   "outputs": [],
   "source": [
    "#import data from our trials\n",
    "\n",
    "#trial 1 - 230331\n",
    "trial_1 = pd.read_csv('/path/to/data.csv')\n",
    "\n",
    "#trial 2 - 230407\n",
    "trial_2 = pd.read_csv('/path/to/data.csv')\n",
    "\n",
    "#trial 3 - 230407_b\n",
    "trial_3 = pd.read_csv('/path/to/data.csv')\n"
   ]
  },
  {
   "cell_type": "code",
   "execution_count": null,
   "metadata": {},
   "outputs": [],
   "source": [
    "GEM_data= pd.concat([trial_1, trial_2, trial_3], ignore_index=True)\n",
    "\n",
    "#print(GEM_data)"
   ]
  },
  {
   "attachments": {},
   "cell_type": "markdown",
   "metadata": {},
   "source": [
    "First plotting our Diffusion coefficients that were calculated from the pairwise distribution (D_pwd)"
   ]
  },
  {
   "cell_type": "code",
   "execution_count": null,
   "metadata": {},
   "outputs": [],
   "source": [
    "#Plot of D's calculated from pairwise distribution (colored points) \n",
    "#Mean D + 95% confidence interval (black point + error bars)\n",
    "\n",
    "sns.set_context(\"notebook\", font_scale = 1.2)\n",
    "g = sns.catplot (x=\"condition\", y=\"mobile_D_eff\", data=GEM_data, kind=\"point\", marker=\"D\", markersize=3, color =\"#000000\", errorbar=\"ci\", err_kws={'linewidth': 1.5}, capsize = 0.15, linestyle='none')\n",
    "g.map_dataframe( sns.swarmplot, x=\"condition\", y=\"mobile_D_eff\", hue=\"date\", palette='dark', alpha=0.5, size=4 )\n",
    "g.set(ylim=(0, None))\n",
    "g.set_xticklabels(rotation = 45)\n",
    "\n",
    "#plt.savefig('Dpwd_swarmplot_mean_95ci_allconditions.png', dpi=300, bbox_inches=\"tight\")"
   ]
  },
  {
   "cell_type": "code",
   "execution_count": null,
   "metadata": {},
   "outputs": [],
   "source": [
    "#Calculate mean D_pwd for each transfection:\n",
    "mean_mobile_Deff = GEM_data.groupby(['condition'], as_index=False, sort=False).agg({'mobile_D_eff':\"mean\"})\n",
    "print(mean_mobile_Deff)"
   ]
  },
  {
   "cell_type": "code",
   "execution_count": null,
   "metadata": {},
   "outputs": [],
   "source": [
    "# Count the number of data points for each category in the transfection column\n",
    "counts = GEM_data['condition'].value_counts()\n",
    "\n",
    "print(counts)"
   ]
  },
  {
   "cell_type": "code",
   "execution_count": null,
   "metadata": {},
   "outputs": [],
   "source": [
    "#We can also do a statistical test to see if the differences in D are significant\n",
    "\n",
    "#grouping data by transfection condition:\n",
    "condition_group = GEM_data.groupby(['condition'], as_index=False, sort=False)\n",
    "control_group = condition_group.get_group('nonCoding')\n",
    "syne1_group = condition_group.get_group('syne1')\n",
    "syne2_group = condition_group.get_group('syne2')\n",
    "syne1_syne2_group = condition_group.get_group('syne1_syne2')\n",
    "\n",
    "#Two Sample Kolmogorov–Smirnov Test \n",
    "#Tells if two datasets likely came from the same (unknown) distrubution\n",
    "#Does not require data to be normally distributed like a T-test would\n",
    "#default p-value is two-sided\n",
    "print(\" \")\n",
    "print(\"SYNE1 KS Test:\")\n",
    "print(stats.ks_2samp(control_group[\"mobile_D_eff\"], syne1_group[\"mobile_D_eff\"]))\n",
    "print(\" \")\n",
    "print(\"SYNE2 KS Test:\")\n",
    "print(stats.ks_2samp(control_group[\"mobile_D_eff\"], syne2_group[\"mobile_D_eff\"]))\n",
    "print(\" \")\n",
    "print(\"SYNE1 + SYNE2 KS Test:\")\n",
    "print(stats.ks_2samp(control_group[\"mobile_D_eff\"], syne1_syne2_group[\"mobile_D_eff\"]))\n",
    "print(\" \")\n",
    "print(\" \")"
   ]
  }
 ],
 "metadata": {
  "kernelspec": {
   "display_name": "plotting",
   "language": "python",
   "name": "python3"
  },
  "language_info": {
   "codemirror_mode": {
    "name": "ipython",
    "version": 3
   },
   "file_extension": ".py",
   "mimetype": "text/x-python",
   "name": "python",
   "nbconvert_exporter": "python",
   "pygments_lexer": "ipython3",
   "version": "3.12.2"
  },
  "orig_nbformat": 4
 },
 "nbformat": 4,
 "nbformat_minor": 2
}
