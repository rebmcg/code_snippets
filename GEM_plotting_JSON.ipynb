{
 "cells": [
  {
   "attachments": {},
   "cell_type": "markdown",
   "metadata": {},
   "source": [
    "<b>Visualizing GEM Data - plotting diffusion coefficients</b> <br><br>\n",
    "Results of GEM diffusion analysis are in separate JSON files for each cell analyzed <br>\n",
    "Read the values from these JSON files and put them in a pandas dataframe <br>\n",
    "Use the dataframe to plot and analyze the experimental results\n",
    "<br><br>\n",
    "Here the experimental groups are: no_transfection, mock_transfection, PPPTA_control, and SRKASH <br>\n",
    "Edit these to adapt to a different experimental setup if needed"
   ]
  },
  {
   "cell_type": "code",
   "execution_count": null,
   "metadata": {},
   "outputs": [],
   "source": [
    "import matplotlib.pyplot as plt\n",
    "import seaborn as sns\n",
    "import pandas as pd\n",
    "import numpy as np\n",
    "import scipy\n",
    "from scipy import stats\n",
    "import json\n",
    "import glob"
   ]
  },
  {
   "cell_type": "code",
   "execution_count": null,
   "metadata": {},
   "outputs": [],
   "source": [
    "#Loading the JSON files from our No Transfection into a pandas dataframe\n",
    "# Create an empty list to hold the DataFrames\n",
    "dfs = []\n",
    "\n",
    "\n",
    "# Loop through all JSON files in the folder and read them into a DataFrame\n",
    "for file_path in glob.glob('/path/to/data/*/*.json'):\n",
    "    with open(file_path, 'r') as f:\n",
    "        data = json.load(f)\n",
    "        df = pd.DataFrame.from_dict(data, orient='index').T\n",
    "        dfs.append(df)\n",
    "\n",
    "\n",
    "# Concatenate all DataFrames in the list\n",
    "df = pd.concat(dfs, ignore_index=True)\n",
    "\n",
    "#Now we are making a dataframe of just our results from our PPPTA control data\n",
    "no_transfection_df = df[['D_msd (um^2/s)', 'D_pwd (um^2/s)', 'bg_pwd', 'mCh_Labels']]\n",
    "\n",
    "no_transfection_df.loc[:, 'transfection'] = 'no_transfection'\n",
    "print(no_transfection_df)"
   ]
  },
  {
   "cell_type": "code",
   "execution_count": null,
   "metadata": {},
   "outputs": [],
   "source": [
    "#Loading the JSON files from our Mock Transfection into a pandas dataframe\n",
    "# Create an empty list to hold the DataFrames\n",
    "dfs = []\n",
    "\n",
    "\n",
    "# Loop through all JSON files in the folder and read them into a DataFrame\n",
    "for file_path in glob.glob('/path/to/data/*/*.json'):\n",
    "    with open(file_path, 'r') as f:\n",
    "        data = json.load(f)\n",
    "        df = pd.DataFrame.from_dict(data, orient='index').T\n",
    "        dfs.append(df)\n",
    "\n",
    "\n",
    "# Concatenate all DataFrames in the list\n",
    "df = pd.concat(dfs, ignore_index=True)\n",
    "\n",
    "#Now we are making a dataframe of just our results from our PPPTA control data\n",
    "mock_transfection_df = df[['D_msd (um^2/s)', 'D_pwd (um^2/s)', 'bg_pwd', 'mCh_Labels']]\n",
    "\n",
    "mock_transfection_df.loc[:, 'transfection'] = 'mock_transfection'\n",
    "print(mock_transfection_df)"
   ]
  },
  {
   "cell_type": "code",
   "execution_count": null,
   "metadata": {},
   "outputs": [],
   "source": [
    "#Loading the JSON files from our PPPTA Control into a pandas dataframe\n",
    "# Create an empty list to hold the DataFrames\n",
    "dfs = []\n",
    "\n",
    "\n",
    "# Loop through all JSON files in the folder and read them into a DataFrame\n",
    "for file_path in glob.glob('/path/to/data/*/*.json'):\n",
    "    with open(file_path, 'r') as f:\n",
    "        data = json.load(f)\n",
    "        df = pd.DataFrame.from_dict(data, orient='index').T\n",
    "        dfs.append(df)\n",
    "\n",
    "\n",
    "# Concatenate all DataFrames in the list\n",
    "df = pd.concat(dfs, ignore_index=True)\n",
    "\n",
    "#Now we are making a dataframe of just our results from our PPPTA control data\n",
    "PPPTA_control_df = df[['D_msd (um^2/s)', 'D_pwd (um^2/s)', 'bg_pwd', 'mCh_Labels']]\n",
    "\n",
    "PPPTA_control_df.loc[:, 'transfection'] = 'PPPTA_control'\n",
    "print(PPPTA_control_df)"
   ]
  },
  {
   "cell_type": "code",
   "execution_count": null,
   "metadata": {},
   "outputs": [],
   "source": [
    "#Loading the JSON files from our SRKASH data into a pandas dataframe\n",
    "# Create an empty list to hold the DataFrames\n",
    "dfs = []\n",
    "\n",
    "\n",
    "# Loop through all JSON files in the folder and read them into a DataFrame\n",
    "for file_path in glob.glob('/path/to/data/*/*.json'):\n",
    "    with open(file_path, 'r') as f:\n",
    "        data = json.load(f)\n",
    "        df = pd.DataFrame.from_dict(data, orient='index').T\n",
    "               \n",
    "        dfs.append(df)\n",
    "\n",
    "\n",
    "# Concatenate all DataFrames in the list\n",
    "df = pd.concat(dfs, ignore_index=True)\n",
    "\n",
    "#Now we are making a dataframe of just our results from our PPPTA control data\n",
    "SRKASH_df = df[['D_msd (um^2/s)', 'D_pwd (um^2/s)', 'bg_pwd', 'mCh_Labels']]\n",
    "\n",
    "SRKASH_df.loc[:,'transfection'] = 'SRKASH'\n",
    "print(SRKASH_df)\n",
    "\n",
    "#pd.set_option('display.max_colwidth', None)\n",
    "#print(df)\n"
   ]
  },
  {
   "cell_type": "code",
   "execution_count": null,
   "metadata": {},
   "outputs": [],
   "source": [
    "#Concatenate the no_transfection, mock_transfection, PPPTA, and SRKASH dataframes into df called GEM_data\n",
    "GEM_data= pd.concat([no_transfection_df, mock_transfection_df, PPPTA_control_df, SRKASH_df], ignore_index=True)\n",
    "\n",
    "print(GEM_data)"
   ]
  },
  {
   "attachments": {},
   "cell_type": "markdown",
   "metadata": {},
   "source": [
    "First plotting our Diffusion coefficients that were calculated from the pairwise distribution (D_pwd)"
   ]
  },
  {
   "cell_type": "code",
   "execution_count": null,
   "metadata": {},
   "outputs": [],
   "source": [
    "#Plot of D's calculated from pairwise distribution (blue points) \n",
    "#Mean D + 95% confidence interval (black point + error bars)\n",
    "\n",
    "sns.set_context(\"notebook\", font_scale = 1.2)\n",
    "g = sns.catplot (x=\"transfection\", y=\"D_pwd (um^2/s)\", data=GEM_data, kind=\"point\", color =\"#000000\", errorbar=\"ci\", errwidth = 1.5, capsize = 0.15, join=False)\n",
    "g.map_dataframe( sns.swarmplot, x=\"transfection\", y=\"D_pwd (um^2/s)\")\n",
    "g.set(ylim=(0, None))"
   ]
  },
  {
   "cell_type": "code",
   "execution_count": null,
   "metadata": {},
   "outputs": [],
   "source": [
    "#Calculate mean D_pwd for each transfection:\n",
    "Mean_D_pwd = GEM_data.groupby(['transfection'], as_index=False, sort=False).agg({'D_pwd (um^2/s)':\"mean\"})\n",
    "print(Mean_D_pwd)"
   ]
  },
  {
   "cell_type": "code",
   "execution_count": null,
   "metadata": {},
   "outputs": [],
   "source": [
    "#We can also do a statistical test to see if the differences in D are significant\n",
    "#Need to think more about which is best test to use, right now goal is to get code set up\n",
    "\n",
    "#grouping data by transfection condition:\n",
    "transfection_group = GEM_data.groupby(['transfection'], as_index=False, sort=False)\n",
    "control_group = transfection_group.get_group('PPPTA_control')\n",
    "dNKASH_group = transfection_group.get_group('SRKASH')\n",
    "\n",
    "#Two Sample Kolmogorov–Smirnov Test \n",
    "#Tells if two datasets likely came from the same (unknown) distrubution\n",
    "#Does not require data to be normally distributed like a T-test would\n",
    "#default p-value is two-sided\n",
    "stats.ks_2samp(control_group[\"D_pwd (um^2/s)\"], dNKASH_group[\"D_pwd (um^2/s)\"])\n",
    "\n"
   ]
  },
  {
   "attachments": {},
   "cell_type": "markdown",
   "metadata": {},
   "source": [
    "Next we are plotting the Diffusion coefficients that were calculated using MSD (D_msd)"
   ]
  },
  {
   "cell_type": "code",
   "execution_count": null,
   "metadata": {},
   "outputs": [],
   "source": [
    "#Plot of D calculated from MSD (blue points)\n",
    "#Mean D + 95% confidence interval (black point + error bars)\n",
    "\n",
    "sns.set_context(\"notebook\", font_scale = 1.2)\n",
    "g = sns.catplot (x=\"transfection\", y=\"D_msd (um^2/s)\", data=GEM_data, kind=\"point\", color =\"#000000\", errorbar=\"ci\", errwidth = 1.5, capsize = 0.15, join=False)\n",
    "g.map_dataframe( sns.swarmplot, x=\"transfection\", y=\"D_msd (um^2/s)\")\n",
    "g.set(ylim=(0, None))\n"
   ]
  },
  {
   "cell_type": "code",
   "execution_count": null,
   "metadata": {},
   "outputs": [],
   "source": [
    "#Calculate mean D_pwd for each transfection:\n",
    "Mean_D_msd = GEM_data.groupby(['transfection'], as_index=False, sort=False).agg({'D_msd (um^2/s)':\"mean\"})\n",
    "print(Mean_D_msd)"
   ]
  },
  {
   "cell_type": "code",
   "execution_count": null,
   "metadata": {},
   "outputs": [],
   "source": [
    "#Two Sample Kolmogorov–Smirnov Test \n",
    "stats.ks_2samp(control_group[\"D_msd (um^2/s)\"], dNKASH_group[\"D_msd (um^2/s)\"])"
   ]
  },
  {
   "cell_type": "code",
   "execution_count": null,
   "metadata": {},
   "outputs": [],
   "source": [
    "#now making a scatter plot of D_pwd vs rfp_cyto\n",
    "sns.set_context(\"notebook\", font_scale = 1.2)\n",
    "g = sns.scatterplot(data=GEM_data, x=\"mCh_Labels\", y=\"D_pwd (um^2/s)\", hue=\"transfection\")\n",
    "g.set(ylim=(0, None))"
   ]
  }
 ],
 "metadata": {
  "kernelspec": {
   "display_name": "plotting (Python 3.10.9)",
   "language": "python",
   "name": "plotting"
  },
  "language_info": {
   "codemirror_mode": {
    "name": "ipython",
    "version": 3
   },
   "file_extension": ".py",
   "mimetype": "text/x-python",
   "name": "python",
   "nbconvert_exporter": "python",
   "pygments_lexer": "ipython3",
   "version": "3.10.9"
  },
  "orig_nbformat": 4
 },
 "nbformat": 4,
 "nbformat_minor": 2
}
